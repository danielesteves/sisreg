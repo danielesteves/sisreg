{
 "cells": [
  {
   "cell_type": "code",
   "execution_count": 2,
   "metadata": {},
   "outputs": [],
   "source": [
    "import pandas as pd\n",
    "import requests\n",
    "import json\n",
    "from matplotlib import pyplot as plt"
   ]
  },
  {
   "cell_type": "code",
   "execution_count": 3,
   "metadata": {},
   "outputs": [],
   "source": [
    "SELECT_URL = 'https://smsrio.org/transparencia/server/colecao/getSelect'\n",
    "PROCEDIMENTO_URL = 'https://smsrio.org/transparencia/server/colecao/getProcedimento'\n",
    "UNIDADE_URL = 'https://smsrio.org/transparencia/server/colecao/getUnidade'"
   ]
  },
  {
   "cell_type": "code",
   "execution_count": 4,
   "metadata": {},
   "outputs": [
    {
     "name": "stdout",
     "output_type": "stream",
     "text": [
      "CPU times: user 30 ms, sys: 10 ms, total: 40 ms\n",
      "Wall time: 2.55 s\n"
     ]
    }
   ],
   "source": [
    "%%time\n",
    "unidade = requests.get(UNIDADE_URL).json()\n",
    "select = requests.get(SELECT_URL).json()\n",
    "procedimento = requests.get(PROCEDIMENTO_URL).json()"
   ]
  },
  {
   "cell_type": "markdown",
   "metadata": {},
   "source": [
    "# for real"
   ]
  },
  {
   "cell_type": "code",
   "execution_count": 5,
   "metadata": {},
   "outputs": [],
   "source": [
    "ATENDIDOS_URL = 'https://smsrio.org/transparencia/server/lista/atendidos'\n",
    "payload = \"{\\\"uni_sol\\\":\\\"\\\",\\\"uni_reg\\\":\\\"\\\",\\\"uni_exec\\\":\\\"\\\",\\\"procedimento\\\":\\\"%s\\\"}\"\n",
    "headers = {'Content-Type': \"application/json;charset=UTF-8\"}"
   ]
  },
  {
   "cell_type": "code",
   "execution_count": 17,
   "metadata": {},
   "outputs": [
    {
     "name": "stdout",
     "output_type": "stream",
     "text": [
      "fetching 2018019 (1 of 487)\n",
      "fetching 3108001 (2 of 487)\n",
      "CPU times: user 50 ms, sys: 10 ms, total: 60 ms\n",
      "Wall time: 4.51 s\n"
     ]
    }
   ],
   "source": [
    "%%time\n",
    "listOfDFs = []\n",
    "\n",
    "i = 0\n",
    "for aProcedimento in procedimento[:2]:\n",
    "    \n",
    "    i += 1\n",
    "    print('fetching %s (%d of %d)' % (aProcedimento['cod_procedimento'], i, len(procedimento)))\n",
    "    \n",
    "    try:\n",
    "        aPayload = payload % aProcedimento['cod_procedimento']\n",
    "\n",
    "        response = requests.request(\"POST\", ATENDIDOS_URL, data=aPayload, headers=headers)\n",
    "        aDf = pd.read_json(response.text)\n",
    "        aDf['cod_procedimento'] = aProcedimento['cod_procedimento']\n",
    "        listOfDFs.append(aDf)\n",
    "    except Exception as e:\n",
    "        print(e)\n",
    "        print('Error on %s' % aProcedimento)\n",
    "    "
   ]
  },
  {
   "cell_type": "code",
   "execution_count": 18,
   "metadata": {},
   "outputs": [
    {
     "name": "stdout",
     "output_type": "stream",
     "text": [
      "CPU times: user 0 ns, sys: 10 ms, total: 10 ms\n",
      "Wall time: 7.7 ms\n"
     ]
    }
   ],
   "source": [
    "%%time\n",
    "df = pd.concat(listOfDFs)"
   ]
  },
  {
   "cell_type": "code",
   "execution_count": 19,
   "metadata": {},
   "outputs": [
    {
     "data": {
      "text/plain": [
       "(1421, 12)"
      ]
     },
     "execution_count": 19,
     "metadata": {},
     "output_type": "execute_result"
    }
   ],
   "source": [
    "df.shape"
   ]
  },
  {
   "cell_type": "code",
   "execution_count": 20,
   "metadata": {},
   "outputs": [
    {
     "data": {
      "text/html": [
       "<div>\n",
       "<table border=\"1\" class=\"dataframe\">\n",
       "  <thead>\n",
       "    <tr style=\"text-align: right;\">\n",
       "      <th></th>\n",
       "      <th>class_risco</th>\n",
       "      <th>cnes_exec</th>\n",
       "      <th>cnes_reguladora</th>\n",
       "      <th>cnes_sol</th>\n",
       "      <th>cns_paciente</th>\n",
       "      <th>cod_solicitacao</th>\n",
       "      <th>data_agendamento</th>\n",
       "      <th>data_execucao</th>\n",
       "      <th>data_nascimento</th>\n",
       "      <th>data_sol</th>\n",
       "      <th>nm_paciente</th>\n",
       "      <th>cod_procedimento</th>\n",
       "    </tr>\n",
       "  </thead>\n",
       "  <tbody>\n",
       "    <tr>\n",
       "      <th>0</th>\n",
       "      <td>vermelho</td>\n",
       "      <td>SMS CMS MARIA CRISTINA ROMA PAUGARTTEN - AP 31</td>\n",
       "      <td>SMS FIOCRUZ/ENSP/CSE GERMANO SINVAL FARIA - AP 31</td>\n",
       "      <td>SMS FIOCRUZ/ENSP/CSE GERMANO SINVAL FARIA - AP 31</td>\n",
       "      <td>702801657601963</td>\n",
       "      <td>251149952</td>\n",
       "      <td>02/08/2018</td>\n",
       "      <td>01/10/2018</td>\n",
       "      <td>16/03/1965</td>\n",
       "      <td>01/08/2018</td>\n",
       "      <td>R S C</td>\n",
       "      <td>2018019</td>\n",
       "    </tr>\n",
       "    <tr>\n",
       "      <th>1</th>\n",
       "      <td>vermelho</td>\n",
       "      <td>SMS CMS MARIA CRISTINA ROMA PAUGARTTEN - AP 31</td>\n",
       "      <td>SMS SECRETARIA MUNICIPAL DE SAUDE DO RIO DE JA...</td>\n",
       "      <td>SMS CF FELIPPE CARDOSO - AP 31</td>\n",
       "      <td>700207430143922</td>\n",
       "      <td>258803059</td>\n",
       "      <td>29/09/2018</td>\n",
       "      <td>03/12/2018</td>\n",
       "      <td>16/05/1970</td>\n",
       "      <td>29/09/2018</td>\n",
       "      <td>A M P</td>\n",
       "      <td>2018019</td>\n",
       "    </tr>\n",
       "    <tr>\n",
       "      <th>2</th>\n",
       "      <td>vermelho</td>\n",
       "      <td>SMS CMS MARIA CRISTINA ROMA PAUGARTTEN - AP 31</td>\n",
       "      <td>SMS CMS MARIO OLINTO DE OLIVEIRA - AP 33</td>\n",
       "      <td>SMS CMS MARIO OLINTO DE OLIVEIRA - AP 33</td>\n",
       "      <td>706009869606044</td>\n",
       "      <td>238200255</td>\n",
       "      <td>19/04/2018</td>\n",
       "      <td>07/05/2018</td>\n",
       "      <td>27/01/1985</td>\n",
       "      <td>19/04/2018</td>\n",
       "      <td>B W S</td>\n",
       "      <td>2018019</td>\n",
       "    </tr>\n",
       "    <tr>\n",
       "      <th>3</th>\n",
       "      <td>vermelho</td>\n",
       "      <td>SMS CMS MARIA CRISTINA ROMA PAUGARTTEN - AP 31</td>\n",
       "      <td>SMS CMS NASCIMENTO GURGEL - AP 33</td>\n",
       "      <td>SMS CMS NASCIMENTO GURGEL - AP 33</td>\n",
       "      <td>700304970271439</td>\n",
       "      <td>252879292</td>\n",
       "      <td>15/08/2018</td>\n",
       "      <td>08/10/2018</td>\n",
       "      <td>04/04/1986</td>\n",
       "      <td>14/08/2018</td>\n",
       "      <td>P R S</td>\n",
       "      <td>2018019</td>\n",
       "    </tr>\n",
       "    <tr>\n",
       "      <th>4</th>\n",
       "      <td>vermelho</td>\n",
       "      <td>SMS CMS MARIA CRISTINA ROMA PAUGARTTEN - AP 31</td>\n",
       "      <td>SMS CF NILDA CAMPOS DE LIMA - AP 31</td>\n",
       "      <td>SMS CF NILDA CAMPOS DE LIMA - AP 31</td>\n",
       "      <td>708204652380141</td>\n",
       "      <td>243833660</td>\n",
       "      <td>06/06/2018</td>\n",
       "      <td>25/06/2018</td>\n",
       "      <td>16/08/1969</td>\n",
       "      <td>06/06/2018</td>\n",
       "      <td>M F S</td>\n",
       "      <td>2018019</td>\n",
       "    </tr>\n",
       "  </tbody>\n",
       "</table>\n",
       "</div>"
      ],
      "text/plain": [
       "  class_risco                                       cnes_exec  \\\n",
       "0    vermelho  SMS CMS MARIA CRISTINA ROMA PAUGARTTEN - AP 31   \n",
       "1    vermelho  SMS CMS MARIA CRISTINA ROMA PAUGARTTEN - AP 31   \n",
       "2    vermelho  SMS CMS MARIA CRISTINA ROMA PAUGARTTEN - AP 31   \n",
       "3    vermelho  SMS CMS MARIA CRISTINA ROMA PAUGARTTEN - AP 31   \n",
       "4    vermelho  SMS CMS MARIA CRISTINA ROMA PAUGARTTEN - AP 31   \n",
       "\n",
       "                                     cnes_reguladora  \\\n",
       "0  SMS FIOCRUZ/ENSP/CSE GERMANO SINVAL FARIA - AP 31   \n",
       "1  SMS SECRETARIA MUNICIPAL DE SAUDE DO RIO DE JA...   \n",
       "2           SMS CMS MARIO OLINTO DE OLIVEIRA - AP 33   \n",
       "3                  SMS CMS NASCIMENTO GURGEL - AP 33   \n",
       "4                SMS CF NILDA CAMPOS DE LIMA - AP 31   \n",
       "\n",
       "                                            cnes_sol     cns_paciente  \\\n",
       "0  SMS FIOCRUZ/ENSP/CSE GERMANO SINVAL FARIA - AP 31  702801657601963   \n",
       "1                     SMS CF FELIPPE CARDOSO - AP 31  700207430143922   \n",
       "2           SMS CMS MARIO OLINTO DE OLIVEIRA - AP 33  706009869606044   \n",
       "3                  SMS CMS NASCIMENTO GURGEL - AP 33  700304970271439   \n",
       "4                SMS CF NILDA CAMPOS DE LIMA - AP 31  708204652380141   \n",
       "\n",
       "   cod_solicitacao data_agendamento data_execucao data_nascimento    data_sol  \\\n",
       "0        251149952       02/08/2018    01/10/2018      16/03/1965  01/08/2018   \n",
       "1        258803059       29/09/2018    03/12/2018      16/05/1970  29/09/2018   \n",
       "2        238200255       19/04/2018    07/05/2018      27/01/1985  19/04/2018   \n",
       "3        252879292       15/08/2018    08/10/2018      04/04/1986  14/08/2018   \n",
       "4        243833660       06/06/2018    25/06/2018      16/08/1969  06/06/2018   \n",
       "\n",
       "  nm_paciente cod_procedimento  \n",
       "0       R S C          2018019  \n",
       "1       A M P          2018019  \n",
       "2       B W S          2018019  \n",
       "3       P R S          2018019  \n",
       "4       M F S          2018019  "
      ]
     },
     "execution_count": 20,
     "metadata": {},
     "output_type": "execute_result"
    }
   ],
   "source": [
    "df.head()"
   ]
  },
  {
   "cell_type": "code",
   "execution_count": 21,
   "metadata": {
    "scrolled": true
   },
   "outputs": [
    {
     "name": "stdout",
     "output_type": "stream",
     "text": [
      "<class 'pandas.core.frame.DataFrame'>\n",
      "Int64Index: 1421 entries, 0 to 211\n",
      "Data columns (total 12 columns):\n",
      "class_risco         1421 non-null object\n",
      "cnes_exec           1421 non-null object\n",
      "cnes_reguladora     1413 non-null object\n",
      "cnes_sol            1421 non-null object\n",
      "cns_paciente        1421 non-null int64\n",
      "cod_solicitacao     1421 non-null int64\n",
      "data_agendamento    1421 non-null object\n",
      "data_execucao       1421 non-null object\n",
      "data_nascimento     1421 non-null object\n",
      "data_sol            1421 non-null object\n",
      "nm_paciente         1421 non-null object\n",
      "cod_procedimento    1421 non-null object\n",
      "dtypes: int64(2), object(10)\n",
      "memory usage: 144.3+ KB\n"
     ]
    }
   ],
   "source": [
    "df.info()"
   ]
  },
  {
   "cell_type": "code",
   "execution_count": 22,
   "metadata": {},
   "outputs": [],
   "source": [
    "df['data_sol'] = pd.to_datetime(df['data_sol'], format='%d/%m/%Y')\n",
    "df['data_nascimento'] = pd.to_datetime(df['data_nascimento'], format='%d/%m/%Y')\n",
    "df['data_execucao'] = pd.to_datetime(df['data_execucao'], format='%d/%m/%Y')\n",
    "df['data_agendamento'] = pd.to_datetime(df['data_agendamento'], format='%d/%m/%Y')"
   ]
  },
  {
   "cell_type": "code",
   "execution_count": 23,
   "metadata": {},
   "outputs": [
    {
     "name": "stdout",
     "output_type": "stream",
     "text": [
      "<class 'pandas.core.frame.DataFrame'>\n",
      "Int64Index: 1421 entries, 0 to 211\n",
      "Data columns (total 12 columns):\n",
      "class_risco         1421 non-null object\n",
      "cnes_exec           1421 non-null object\n",
      "cnes_reguladora     1413 non-null object\n",
      "cnes_sol            1421 non-null object\n",
      "cns_paciente        1421 non-null int64\n",
      "cod_solicitacao     1421 non-null int64\n",
      "data_agendamento    1421 non-null datetime64[ns]\n",
      "data_execucao       1421 non-null datetime64[ns]\n",
      "data_nascimento     1421 non-null datetime64[ns]\n",
      "data_sol            1421 non-null datetime64[ns]\n",
      "nm_paciente         1421 non-null object\n",
      "cod_procedimento    1421 non-null object\n",
      "dtypes: datetime64[ns](4), int64(2), object(6)\n",
      "memory usage: 144.3+ KB\n"
     ]
    },
    {
     "data": {
      "text/html": [
       "<div>\n",
       "<table border=\"1\" class=\"dataframe\">\n",
       "  <thead>\n",
       "    <tr style=\"text-align: right;\">\n",
       "      <th></th>\n",
       "      <th>class_risco</th>\n",
       "      <th>cnes_exec</th>\n",
       "      <th>cnes_reguladora</th>\n",
       "      <th>cnes_sol</th>\n",
       "      <th>cns_paciente</th>\n",
       "      <th>cod_solicitacao</th>\n",
       "      <th>data_agendamento</th>\n",
       "      <th>data_execucao</th>\n",
       "      <th>data_nascimento</th>\n",
       "      <th>data_sol</th>\n",
       "      <th>nm_paciente</th>\n",
       "      <th>cod_procedimento</th>\n",
       "    </tr>\n",
       "  </thead>\n",
       "  <tbody>\n",
       "    <tr>\n",
       "      <th>0</th>\n",
       "      <td>vermelho</td>\n",
       "      <td>SMS CMS MARIA CRISTINA ROMA PAUGARTTEN - AP 31</td>\n",
       "      <td>SMS FIOCRUZ/ENSP/CSE GERMANO SINVAL FARIA - AP 31</td>\n",
       "      <td>SMS FIOCRUZ/ENSP/CSE GERMANO SINVAL FARIA - AP 31</td>\n",
       "      <td>702801657601963</td>\n",
       "      <td>251149952</td>\n",
       "      <td>2018-08-02</td>\n",
       "      <td>2018-10-01</td>\n",
       "      <td>1965-03-16</td>\n",
       "      <td>2018-08-01</td>\n",
       "      <td>R S C</td>\n",
       "      <td>2018019</td>\n",
       "    </tr>\n",
       "    <tr>\n",
       "      <th>1</th>\n",
       "      <td>vermelho</td>\n",
       "      <td>SMS CMS MARIA CRISTINA ROMA PAUGARTTEN - AP 31</td>\n",
       "      <td>SMS SECRETARIA MUNICIPAL DE SAUDE DO RIO DE JA...</td>\n",
       "      <td>SMS CF FELIPPE CARDOSO - AP 31</td>\n",
       "      <td>700207430143922</td>\n",
       "      <td>258803059</td>\n",
       "      <td>2018-09-29</td>\n",
       "      <td>2018-12-03</td>\n",
       "      <td>1970-05-16</td>\n",
       "      <td>2018-09-29</td>\n",
       "      <td>A M P</td>\n",
       "      <td>2018019</td>\n",
       "    </tr>\n",
       "    <tr>\n",
       "      <th>2</th>\n",
       "      <td>vermelho</td>\n",
       "      <td>SMS CMS MARIA CRISTINA ROMA PAUGARTTEN - AP 31</td>\n",
       "      <td>SMS CMS MARIO OLINTO DE OLIVEIRA - AP 33</td>\n",
       "      <td>SMS CMS MARIO OLINTO DE OLIVEIRA - AP 33</td>\n",
       "      <td>706009869606044</td>\n",
       "      <td>238200255</td>\n",
       "      <td>2018-04-19</td>\n",
       "      <td>2018-05-07</td>\n",
       "      <td>1985-01-27</td>\n",
       "      <td>2018-04-19</td>\n",
       "      <td>B W S</td>\n",
       "      <td>2018019</td>\n",
       "    </tr>\n",
       "    <tr>\n",
       "      <th>3</th>\n",
       "      <td>vermelho</td>\n",
       "      <td>SMS CMS MARIA CRISTINA ROMA PAUGARTTEN - AP 31</td>\n",
       "      <td>SMS CMS NASCIMENTO GURGEL - AP 33</td>\n",
       "      <td>SMS CMS NASCIMENTO GURGEL - AP 33</td>\n",
       "      <td>700304970271439</td>\n",
       "      <td>252879292</td>\n",
       "      <td>2018-08-15</td>\n",
       "      <td>2018-10-08</td>\n",
       "      <td>1986-04-04</td>\n",
       "      <td>2018-08-14</td>\n",
       "      <td>P R S</td>\n",
       "      <td>2018019</td>\n",
       "    </tr>\n",
       "    <tr>\n",
       "      <th>4</th>\n",
       "      <td>vermelho</td>\n",
       "      <td>SMS CMS MARIA CRISTINA ROMA PAUGARTTEN - AP 31</td>\n",
       "      <td>SMS CF NILDA CAMPOS DE LIMA - AP 31</td>\n",
       "      <td>SMS CF NILDA CAMPOS DE LIMA - AP 31</td>\n",
       "      <td>708204652380141</td>\n",
       "      <td>243833660</td>\n",
       "      <td>2018-06-06</td>\n",
       "      <td>2018-06-25</td>\n",
       "      <td>1969-08-16</td>\n",
       "      <td>2018-06-06</td>\n",
       "      <td>M F S</td>\n",
       "      <td>2018019</td>\n",
       "    </tr>\n",
       "  </tbody>\n",
       "</table>\n",
       "</div>"
      ],
      "text/plain": [
       "  class_risco                                       cnes_exec  \\\n",
       "0    vermelho  SMS CMS MARIA CRISTINA ROMA PAUGARTTEN - AP 31   \n",
       "1    vermelho  SMS CMS MARIA CRISTINA ROMA PAUGARTTEN - AP 31   \n",
       "2    vermelho  SMS CMS MARIA CRISTINA ROMA PAUGARTTEN - AP 31   \n",
       "3    vermelho  SMS CMS MARIA CRISTINA ROMA PAUGARTTEN - AP 31   \n",
       "4    vermelho  SMS CMS MARIA CRISTINA ROMA PAUGARTTEN - AP 31   \n",
       "\n",
       "                                     cnes_reguladora  \\\n",
       "0  SMS FIOCRUZ/ENSP/CSE GERMANO SINVAL FARIA - AP 31   \n",
       "1  SMS SECRETARIA MUNICIPAL DE SAUDE DO RIO DE JA...   \n",
       "2           SMS CMS MARIO OLINTO DE OLIVEIRA - AP 33   \n",
       "3                  SMS CMS NASCIMENTO GURGEL - AP 33   \n",
       "4                SMS CF NILDA CAMPOS DE LIMA - AP 31   \n",
       "\n",
       "                                            cnes_sol     cns_paciente  \\\n",
       "0  SMS FIOCRUZ/ENSP/CSE GERMANO SINVAL FARIA - AP 31  702801657601963   \n",
       "1                     SMS CF FELIPPE CARDOSO - AP 31  700207430143922   \n",
       "2           SMS CMS MARIO OLINTO DE OLIVEIRA - AP 33  706009869606044   \n",
       "3                  SMS CMS NASCIMENTO GURGEL - AP 33  700304970271439   \n",
       "4                SMS CF NILDA CAMPOS DE LIMA - AP 31  708204652380141   \n",
       "\n",
       "   cod_solicitacao data_agendamento data_execucao data_nascimento   data_sol  \\\n",
       "0        251149952       2018-08-02    2018-10-01      1965-03-16 2018-08-01   \n",
       "1        258803059       2018-09-29    2018-12-03      1970-05-16 2018-09-29   \n",
       "2        238200255       2018-04-19    2018-05-07      1985-01-27 2018-04-19   \n",
       "3        252879292       2018-08-15    2018-10-08      1986-04-04 2018-08-14   \n",
       "4        243833660       2018-06-06    2018-06-25      1969-08-16 2018-06-06   \n",
       "\n",
       "  nm_paciente cod_procedimento  \n",
       "0       R S C          2018019  \n",
       "1       A M P          2018019  \n",
       "2       B W S          2018019  \n",
       "3       P R S          2018019  \n",
       "4       M F S          2018019  "
      ]
     },
     "execution_count": 23,
     "metadata": {},
     "output_type": "execute_result"
    }
   ],
   "source": [
    "df.info()\n",
    "df.head()"
   ]
  },
  {
   "cell_type": "code",
   "execution_count": 61,
   "metadata": {},
   "outputs": [],
   "source": [
    "df['delta_execucao'] = df['data_execucao'] - df['data_agendamento']\n",
    "df['delta_agendamento'] = df['data_agendamento'] - df['data_sol']"
   ]
  },
  {
   "cell_type": "code",
   "execution_count": 67,
   "metadata": {},
   "outputs": [
    {
     "data": {
      "text/html": [
       "<div>\n",
       "<table border=\"1\" class=\"dataframe\">\n",
       "  <thead>\n",
       "    <tr>\n",
       "      <th></th>\n",
       "      <th colspan=\"3\" halign=\"left\">delta_execucao</th>\n",
       "      <th colspan=\"3\" halign=\"left\">delta_agendamento</th>\n",
       "    </tr>\n",
       "    <tr>\n",
       "      <th></th>\n",
       "      <th>min</th>\n",
       "      <th>mean</th>\n",
       "      <th>max</th>\n",
       "      <th>min</th>\n",
       "      <th>mean</th>\n",
       "      <th>max</th>\n",
       "    </tr>\n",
       "    <tr>\n",
       "      <th>cod_procedimento</th>\n",
       "      <th></th>\n",
       "      <th></th>\n",
       "      <th></th>\n",
       "      <th></th>\n",
       "      <th></th>\n",
       "      <th></th>\n",
       "    </tr>\n",
       "  </thead>\n",
       "  <tbody>\n",
       "    <tr>\n",
       "      <th>2018019</th>\n",
       "      <td>0</td>\n",
       "      <td>21.308519</td>\n",
       "      <td>73</td>\n",
       "      <td>0</td>\n",
       "      <td>0.851944</td>\n",
       "      <td>121</td>\n",
       "    </tr>\n",
       "    <tr>\n",
       "      <th>3108001</th>\n",
       "      <td>3</td>\n",
       "      <td>17.726415</td>\n",
       "      <td>35</td>\n",
       "      <td>0</td>\n",
       "      <td>14.985849</td>\n",
       "      <td>1047</td>\n",
       "    </tr>\n",
       "  </tbody>\n",
       "</table>\n",
       "</div>"
      ],
      "text/plain": [
       "                 delta_execucao                delta_agendamento             \\\n",
       "                            min       mean max               min       mean   \n",
       "cod_procedimento                                                              \n",
       "2018019                       0  21.308519  73                 0   0.851944   \n",
       "3108001                       3  17.726415  35                 0  14.985849   \n",
       "\n",
       "                        \n",
       "                   max  \n",
       "cod_procedimento        \n",
       "2018019            121  \n",
       "3108001           1047  "
      ]
     },
     "execution_count": 67,
     "metadata": {},
     "output_type": "execute_result"
    }
   ],
   "source": [
    "#df.iloc[1]['delta_execucao'].days\n",
    "#df.groupby('cod_procedimento').mean()\n",
    "\n",
    "dfagg = df.copy()\n",
    "\n",
    "dfagg['delta_execucao'] = dfagg['delta_execucao'].dt.days\n",
    "dfagg['delta_agendamento'] = dfagg['delta_agendamento'].dt.days\n",
    "\n",
    "dfagg.groupby('cod_procedimento')['delta_execucao','delta_agendamento'].agg(['min','mean','max'])\n",
    "\n",
    "#dfagg.iloc[0]\n"
   ]
  }
 ],
 "metadata": {
  "kernelspec": {
   "display_name": "Python 3",
   "language": "python",
   "name": "python3"
  },
  "language_info": {
   "codemirror_mode": {
    "name": "ipython",
    "version": 3
   },
   "file_extension": ".py",
   "mimetype": "text/x-python",
   "name": "python",
   "nbconvert_exporter": "python",
   "pygments_lexer": "ipython3",
   "version": "3.6.3"
  }
 },
 "nbformat": 4,
 "nbformat_minor": 2
}
